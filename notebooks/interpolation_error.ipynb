{
 "cells": [
  {
   "cell_type": "code",
   "execution_count": 7,
   "id": "1c4fbbc1",
   "metadata": {},
   "outputs": [],
   "source": [
    "\n",
    "import os\n",
    "import numpy as np\n",
    "import nibabel as nb\n",
    "import scipy\n",
    "%matplotlib inline\n",
    "import meld_classifier.mesh_tools as mt\n",
    "from scipy import stats as st"
   ]
  },
  {
   "cell_type": "code",
   "execution_count": null,
   "id": "9d052b7a",
   "metadata": {},
   "outputs": [],
   "source": [
    "def get_adj_mat(surf):\n",
    "\n",
    "        all_edges = np.vstack(\n",
    "            [surf[\"faces\"][:, :2], surf[\"faces\"][:, 1:3], surf[\"faces\"][:, [2, 0]]]\n",
    "        )\n",
    "        adj_mat = scipy.sparse.coo_matrix(\n",
    "            (np.ones(len(all_edges), np.uint8), (all_edges[:, 0], all_edges[:, 1])),\n",
    "            shape=(len(surf[\"coords\"]), len(surf[\"coords\"])),\n",
    "        ).tocsr()\n",
    "        return adj_mat\n",
    "    \n",
    "def cluster(mask,adj_mat):\n",
    "        \"\"\"cluster predictions and threshold based on min_area_threshold\n",
    "\n",
    "        Args:\n",
    "            mask: boolean mask of the per-vertex lesion predictions to cluster\"\"\"\n",
    "        n_comp, labels = scipy.sparse.csgraph.connected_components(adj_mat[mask][:, mask])\n",
    "        islands = np.zeros(len(mask))\n",
    "        island_count=0\n",
    "        # only include islands larger than minimum size.\n",
    "        for island_index in np.arange(n_comp):\n",
    "            include_vec = labels == island_index\n",
    "            size = np.sum(include_vec)\n",
    "\n",
    "            island_count += 1\n",
    "            island_mask = mask.copy()\n",
    "            island_mask[mask] = include_vec\n",
    "            islands[island_mask] = island_count\n",
    "        return islands\n",
    "    \n",
    "def reindex(clustered,prediction):\n",
    "    \"\"\"replace cluster numbers\"\"\"\n",
    "    reindexed_clustered = np.zeros(len(clustered),dtype=int)\n",
    "    for c in np.unique(clustered)[1:]:\n",
    "        reindexed_clustered[clustered==c]=st.mode(prediction[clustered==c])[0][0]\n",
    "    return reindexed_clustered\n",
    "\n",
    "def correct_interpolation_error(input_mgh,input_surf,output_mgh):\n",
    "    \"\"\"correct errors due to interpolation from xhemi back to native\"\"\"\n",
    "    prediction = np.array(mt.load_mgh(input_mgh))\n",
    "    surf = mt.load_mesh_geometry(input_surf)\n",
    "    adj = get_adj_mat(surf)\n",
    "    clustered=cluster(prediction>0,adj)\n",
    "    reindexed_clustered = reindex(clustered,prediction)\n",
    "    mt.save_mgh(output_mgh,reindexed_clustered,nb.load(input_mgh))\n",
    "    return"
   ]
  },
  {
   "cell_type": "code",
   "execution_count": null,
   "id": "38f389a6",
   "metadata": {},
   "outputs": [],
   "source": [
    "subdir = '/home/kw350/rds/rds-kw350-meld/test_meld/output/fs_outputs/MELD_H29_3T_FCD_0079/'\n",
    "input_mgh=os.path.join(subdir,'surf','rh.prediction.mgh')\n",
    "input_surf=os.path.join(subdir,'surf','rh.white')\n",
    "output_mgh=os.path.join(subdir,'surf','rh.prediction_corr.mgh')"
   ]
  },
  {
   "cell_type": "code",
   "execution_count": null,
   "id": "a9c992e5",
   "metadata": {},
   "outputs": [],
   "source": [
    "correct_interpolation_error(input_mgh,input_surf,output_mgh)"
   ]
  },
  {
   "cell_type": "code",
   "execution_count": null,
   "id": "00f4d39b",
   "metadata": {},
   "outputs": [],
   "source": []
  },
  {
   "cell_type": "code",
   "execution_count": 16,
   "id": "3b2e5324",
   "metadata": {},
   "outputs": [],
   "source": []
  },
  {
   "cell_type": "code",
   "execution_count": 13,
   "id": "337ca490",
   "metadata": {},
   "outputs": [],
   "source": []
  },
  {
   "cell_type": "code",
   "execution_count": 14,
   "id": "b50e06e2",
   "metadata": {},
   "outputs": [],
   "source": []
  },
  {
   "cell_type": "code",
   "execution_count": 17,
   "id": "4ba7635e",
   "metadata": {},
   "outputs": [],
   "source": []
  },
  {
   "cell_type": "code",
   "execution_count": 18,
   "id": "7ccc40a4",
   "metadata": {},
   "outputs": [],
   "source": []
  },
  {
   "cell_type": "code",
   "execution_count": null,
   "id": "90ada608",
   "metadata": {},
   "outputs": [],
   "source": []
  }
 ],
 "metadata": {
  "kernelspec": {
   "display_name": "meld_classifier",
   "language": "python",
   "name": "meld_classifier"
  },
  "language_info": {
   "codemirror_mode": {
    "name": "ipython",
    "version": 3
   },
   "file_extension": ".py",
   "mimetype": "text/x-python",
   "name": "python",
   "nbconvert_exporter": "python",
   "pygments_lexer": "ipython3",
   "version": "3.7.11"
  }
 },
 "nbformat": 4,
 "nbformat_minor": 5
}

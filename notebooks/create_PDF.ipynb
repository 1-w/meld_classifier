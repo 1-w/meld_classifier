{
 "cells": [
  {
   "cell_type": "code",
   "execution_count": 5,
   "id": "36f0eb0c",
   "metadata": {},
   "outputs": [],
   "source": [
    "import os\n",
    "from datetime import date\n",
    "from fpdf import FPDF"
   ]
  },
  {
   "cell_type": "code",
   "execution_count": 150,
   "id": "4d83a62b",
   "metadata": {},
   "outputs": [],
   "source": [
    "class PDF(FPDF):    \n",
    "    def lines(self):\n",
    "        self.set_line_width(0.0)\n",
    "        self.line(5.0,5.0,205.0,5.0) # top one\n",
    "        self.line(5.0,292.0,205.0,292.0) # bottom one\n",
    "        self.line(5.0,5.0,5.0,292.0) # left one\n",
    "        self.line(205.0,5.0,205.0,292.0) # right one\n",
    "    \n",
    "    def custom_header(self, logo, txt1, txt2=None):\n",
    "        # Log\n",
    "        self.image(logo, 10, 8, 33)\n",
    "        # Arial bold \n",
    "        self.set_font('Arial', 'B', 30)\n",
    "        # Move to the right\n",
    "        self.cell(80)\n",
    "        # Title\n",
    "        self.cell(w=30, h=10, txt=txt1, border=0, ln=0, align='C')\n",
    "        if txt2 != None:\n",
    "            # Arial bold 15\n",
    "            self.ln(20)\n",
    "            self.cell(80)\n",
    "            self.set_font('Arial', 'B', 20)\n",
    "            self.cell(w=30, h=5, txt=txt2, border=0, ln=0, align='C')\n",
    "        # Line break\n",
    "        self.ln(20)\n",
    "    \n",
    "    def custom_footer(self, txt):\n",
    "        # Arial italic 8\n",
    "        self.set_font('Arial', 'I', 8)\n",
    "        # Position at 1.5 cm from bottom\n",
    "        self.set_y(-30)\n",
    "        # add text\n",
    "        self.cell(w=0, h=0, txt=txt, border=0, ln=2, align='C') \n",
    "        # Date\n",
    "        today = date.today()\n",
    "        today = today.strftime(\"%d/%m/%Y\")\n",
    "        self.cell(w=5, h=8, txt=str(today) , border=0, ln=0, align='L')\n",
    "        # Page number\n",
    "        self.cell(w=200, h=8, txt='Page ' + str(self.page_no()), border=0, ln=2, align='R')\n",
    "                \n",
    "    \n",
    "    def info_box(self, txt):\n",
    "        # set font\n",
    "        self.set_font('Arial', 'I', 10)\n",
    "        #set box color\n",
    "        self.set_fill_color(160,214,190)\n",
    "        # add texte box info\n",
    "        self.multi_cell(w=190, h=5, txt=txt , border=1, align='L', fill=True)\n",
    "    \n",
    "    def disclaimer_box(self, txt):\n",
    "        # set font\n",
    "        self.set_font('Arial', 'I', 6)\n",
    "        #set box color\n",
    "        self.set_fill_color(244,129,134)\n",
    "        # add texte box info\n",
    "        self.multi_cell(w=190, h=5, txt=txt , border=1, align='L', fill=True)\n",
    "        \n",
    "    def subtitle_inflat(self):\n",
    "        # Arial bold 15\n",
    "        self.set_font('Arial', 'B', 20)\n",
    "        # Title\n",
    "        self.cell(w=10, h=180, txt='Overview clusters on inflated brain', border=0, ln=0, align='L')\n",
    "        # Line break\n",
    "        self.ln(10)\n",
    "        \n",
    "    def imagey(self,im, y):\n",
    "        pdf.image(im, 5, y, link='', type='', w=190, h=297/3)"
   ]
  },
  {
   "cell_type": "code",
   "execution_count": 151,
   "id": "21305cee",
   "metadata": {},
   "outputs": [],
   "source": [
    "subj_dir = '/home/mathilde/Documents/projects/MELD_classifier/process/220120_meld_tutorial/input/MELD_H4_3T_FCD_0001/predictions/reports'"
   ]
  },
  {
   "cell_type": "code",
   "execution_count": 160,
   "id": "1373e55f",
   "metadata": {},
   "outputs": [],
   "source": [
    "pdf = PDF()#pdf object\n",
    "pdf=PDF(orientation='P') # landscape\n",
    "pdf=PDF(unit='mm') #unit of measurement\n",
    "pdf=PDF(format='A4') #page format. A4 is the default value of the format, you don't have to specify it.\n",
    "\n",
    "#initiate constante\n",
    "pdf_w=210  #dim A4\n",
    "pdf_h=297  #dim A4\n",
    "\n",
    "logo = '/home/mathilde/Documents/other/MELD_logo.png'\n",
    "\n",
    "temp_txt = 'blablbablaba'\n",
    "text_info_1 = \"Information: \\n The MRI data of this patient has been processed through the MELD surface-based FCD detection algorithm. \\n Page 1 of this report will show all detected clusters on an inflated view of the brain. \\n Each subsequent page is an individual cluster\"\n",
    "\n",
    "text_info_2 = \"For each cluster, the information below are provided: \\n -The hemisphere the cluster is on \\n -The surface area of the cluster (across the cortical surface) \\n -The location of the cluster \\n - The z-scores of the patient’s cortical features averaged within the cluster. \\n- The saliency of each feature to the network - if a feature is brighter pink, that feature was more important to the network. \\nFor more information, please read the Guide to using the MELD surface-based FCD detection.\"\n",
    "\n",
    "disclaimer = \"Disclaimer: The MELD surface-based FCD detection algorithm is intended for research purposes only \\n and has not been reviewed or approved by the Medicines and Healthcare products Regulatory Agency (MHRA),\\nEuropean Medicine Agency (EMA) or by any other agency. \\nAny clinical application of the software is at the sole risk of the party engaged in such application. \\nThere is no warranty of any kind that the software will produce useful results in any way. \\nUse of the software is at the recipient own risk\" \n",
    "\n",
    "footer_txt=\"This report was created by Mathilde Ripart, Hannah Spitzer, Sophie Adler and Konrad Wagstyl on behalf of the MELD Project\"\n",
    "\n",
    "\n",
    "subject = 'MELD_H4_3T_FCD_0001'"
   ]
  },
  {
   "cell_type": "code",
   "execution_count": 161,
   "id": "3fd4c558",
   "metadata": {},
   "outputs": [],
   "source": [
    "today = date.today()\n",
    "\n",
    "#### create main page with overview on inflated brain\n",
    "\n",
    "#add page\n",
    "pdf.add_page()\n",
    "#add line contours\n",
    "pdf.lines()\n",
    "#add header\n",
    "pdf.custom_header(logo, txt1='MELD report', txt2=f'Patient ID: {subject}')\n",
    "#add info box\n",
    "pdf.info_box(text_info_1)\n",
    "#add disclaimer box\n",
    "pdf.info_box(disclaimer)\n",
    "#add image\n",
    "pdf.subtitle_inflat()\n",
    "im_inflat= os.path.join(subj_dir, f'inflatbrain_{subject}.png')\n",
    "pdf.imagey(im_inflat,140)\n",
    "#add footer date\n",
    "pdf.custom_footer(footer_txt)\n",
    "\n",
    "clusters=[1]\n",
    "#### Create page for each cluster with MRI view and saliencies\n",
    "for cluster in clusters: \n",
    "    #add page\n",
    "    pdf.add_page()\n",
    "    #add line contours\n",
    "    pdf.lines()\n",
    "    #add header\n",
    "    pdf.custom_header(logo, txt1='MRI view & saliencies', txt2=f'cluster {cluster}')\n",
    "    #add image\n",
    "    im_mri= os.path.join(subj_dir, f'mri_{subject}_rh_c{cluster}.png')\n",
    "    pdf.imagey(im_mri, 50)\n",
    "    #add image\n",
    "    im_sal= os.path.join(subj_dir, f'saliency_{subject}_rh_c{cluster}.png')\n",
    "    pdf.imagey(im_sal, 150)\n",
    "    #add footer date\n",
    "    pdf.custom_footer(footer_txt)\n",
    "\n",
    "\n",
    "\n"
   ]
  },
  {
   "cell_type": "code",
   "execution_count": 162,
   "id": "eeca9c6f",
   "metadata": {},
   "outputs": [
    {
     "data": {
      "text/plain": [
       "''"
      ]
     },
     "execution_count": 162,
     "metadata": {},
     "output_type": "execute_result"
    }
   ],
   "source": [
    "#save pdf\n",
    "pdf.output(os.path.join(subj_dir,'test_pdf.pdf'),'F')"
   ]
  },
  {
   "cell_type": "code",
   "execution_count": null,
   "id": "4e0470fd",
   "metadata": {},
   "outputs": [],
   "source": []
  },
  {
   "cell_type": "code",
   "execution_count": null,
   "id": "6f326163",
   "metadata": {},
   "outputs": [],
   "source": []
  },
  {
   "cell_type": "code",
   "execution_count": null,
   "id": "5b3c2c3f",
   "metadata": {},
   "outputs": [],
   "source": []
  }
 ],
 "metadata": {
  "kernelspec": {
   "display_name": "Python 3 (ipykernel)",
   "language": "python",
   "name": "python3"
  },
  "language_info": {
   "codemirror_mode": {
    "name": "ipython",
    "version": 3
   },
   "file_extension": ".py",
   "mimetype": "text/x-python",
   "name": "python",
   "nbconvert_exporter": "python",
   "pygments_lexer": "ipython3",
   "version": "3.7.11"
  }
 },
 "nbformat": 4,
 "nbformat_minor": 5
}

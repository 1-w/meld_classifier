{
 "cells": [
  {
   "cell_type": "code",
   "execution_count": 9,
   "metadata": {},
   "outputs": [],
   "source": [
    "from meld_classifier.meld_cohort import MeldCohort, MeldSubject\n",
    "import numpy as np\n",
    "from scipy.stats import ttest_ind\n",
    "import seaborn as sns\n",
    "import pandas as pd\n",
    "from meld_classifier.define_features import Feature\n",
    "from meld_classifier.paths import BASE_PATH, EXPERIMENT_PATH,MELD_DATA_PATH\n",
    "import sklearn.metrics as metrics"
   ]
  },
  {
   "cell_type": "code",
   "execution_count": 2,
   "metadata": {},
   "outputs": [],
   "source": [
    "cohort= MeldCohort(hdf5_file_root='{site_code}_{group}_featurematrix_combat_6.hdf5', dataset=\"MELD_dataset_V6.csv\",\n",
    "             data_dir=MELD_DATA_PATH)"
   ]
  },
  {
   "cell_type": "code",
   "execution_count": 3,
   "metadata": {},
   "outputs": [
    {
     "name": "stdout",
     "output_type": "stream",
     "text": [
      "538 patients 373 controls\n",
      ".combat.on_lh.curv.sm5.mgh\n",
      ".combat.on_lh.gm_FLAIR_0.25.sm10.mgh\n",
      ".combat.on_lh.gm_FLAIR_0.5.sm10.mgh\n",
      ".combat.on_lh.gm_FLAIR_0.75.sm10.mgh\n",
      ".combat.on_lh.gm_FLAIR_0.sm10.mgh\n",
      ".combat.on_lh.pial.K_filtered.sm20.mgh\n",
      ".combat.on_lh.sulc.sm5.mgh\n",
      ".combat.on_lh.thickness.sm10.mgh\n",
      ".combat.on_lh.w-g.pct.sm10.mgh\n",
      ".combat.on_lh.wm_FLAIR_0.5.sm10.mgh\n",
      ".combat.on_lh.wm_FLAIR_1.sm10.mgh\n",
      ".inter_z.asym.intra_z.combat.on_lh.curv.sm5.mgh\n",
      ".inter_z.asym.intra_z.combat.on_lh.gm_FLAIR_0.25.sm10.mgh\n",
      ".inter_z.asym.intra_z.combat.on_lh.gm_FLAIR_0.5.sm10.mgh\n",
      ".inter_z.asym.intra_z.combat.on_lh.gm_FLAIR_0.75.sm10.mgh\n",
      ".inter_z.asym.intra_z.combat.on_lh.gm_FLAIR_0.sm10.mgh\n",
      ".inter_z.asym.intra_z.combat.on_lh.pial.K_filtered.sm20.mgh\n",
      ".inter_z.asym.intra_z.combat.on_lh.sulc.sm5.mgh\n",
      ".inter_z.asym.intra_z.combat.on_lh.thickness.sm10.mgh\n",
      ".inter_z.asym.intra_z.combat.on_lh.w-g.pct.sm10.mgh\n",
      ".inter_z.asym.intra_z.combat.on_lh.wm_FLAIR_0.5.sm10.mgh\n",
      ".inter_z.asym.intra_z.combat.on_lh.wm_FLAIR_1.sm10.mgh\n",
      ".inter_z.intra_z.combat.on_lh.curv.sm5.mgh\n",
      ".inter_z.intra_z.combat.on_lh.gm_FLAIR_0.25.sm10.mgh\n",
      ".inter_z.intra_z.combat.on_lh.gm_FLAIR_0.5.sm10.mgh\n",
      ".inter_z.intra_z.combat.on_lh.gm_FLAIR_0.75.sm10.mgh\n",
      ".inter_z.intra_z.combat.on_lh.gm_FLAIR_0.sm10.mgh\n",
      ".inter_z.intra_z.combat.on_lh.pial.K_filtered.sm20.mgh\n",
      ".inter_z.intra_z.combat.on_lh.sulc.sm5.mgh\n",
      ".inter_z.intra_z.combat.on_lh.thickness.sm10.mgh\n",
      ".inter_z.intra_z.combat.on_lh.w-g.pct.sm10.mgh\n",
      ".inter_z.intra_z.combat.on_lh.wm_FLAIR_0.5.sm10.mgh\n",
      ".inter_z.intra_z.combat.on_lh.wm_FLAIR_1.sm10.mgh\n"
     ]
    }
   ],
   "source": [
    "# get all patients and controls\n",
    "patient_ids = cohort.get_subject_ids(group='patient')\n",
    "control_ids = cohort.get_subject_ids(group='control')\n",
    "print(len(patient_ids), 'patients', len(control_ids), 'controls')\n",
    "\n",
    "# get all features\n",
    "for f in cohort.full_feature_list:\n",
    "    print(f)"
   ]
  },
  {
   "cell_type": "code",
   "execution_count": null,
   "metadata": {},
   "outputs": [],
   "source": [
    "def get_subject_features(subject_ids, feature, cohort):\n",
    "    \"\"\"\n",
    "    preload features from controls for a list of controls\n",
    "    \"\"\"\n",
    "    n_vert = sum(cohort.cortex_mask)\n",
    "    subject_data = {'features':{}, 'lesions': {}}\n",
    "    subject_data['features']= np.zeros((len(subject_ids),2*n_vert))\n",
    "    subject_data['lesions']= np.zeros((len(subject_ids),2*n_vert))\n",
    "    for s,sid in enumerate(subject_ids):\n",
    "        f=[]\n",
    "        l=[]\n",
    "        for h,hemi in enumerate(['lh', 'rh']):\n",
    "            subj = MeldSubject(sid, cohort)\n",
    "            features,lesion = subj.load_feature_lesion_data([feature], hemi=hemi)\n",
    "            subject_data['features'][s,h*n_vert:(h+1)*n_vert] = features[cohort.cortex_mask].flatten()\n",
    "            subject_data['lesions'][s,h*n_vert:(h+1)*n_vert] = lesion[cohort.cortex_mask]>0        \n",
    "    return subject_data\n",
    "\n",
    "\n",
    "def get_auc(all_features, bootstrap=False):\n",
    "    subj_ids = np.arange(len(all_features))\n",
    "    if bootstrap:\n",
    "        #randomly with replacement\n",
    "        subj_ids = np.random.choice(len(subj_ids),len(subj_ids))\n",
    "\n",
    "    y_score = all_features['features'][subj_ids].ravel()\n",
    "    label = all_features['lesions'][subj_ids].ravel()\n",
    "    score = metrics.roc_auc_score(label, y_score)\n",
    "    return 0.5+np.abs(0.5-score)\n",
    "\n",
    "def get_auc_for_features(subject_ids, features, cohort):\n",
    "    \"\"\"\n",
    "    calculate tstats for all patients + matching controls for all features in features dict\n",
    "    \"\"\"\n",
    "    import time\n",
    "    stats_c = {}\n",
    "    for ftype, fdict in features.items():\n",
    "        cur_stats_c = {}\n",
    "        stats_c[ftype]=[]\n",
    "        for fname, feature in fdict.items():\n",
    "            subj_data = get_subject_features(subject_ids, feature, cohort)\n",
    "            bootstrap_stats=[]\n",
    "            for bs in np.arange(20):\n",
    "                bootstrap_stats.append(get_auc(subj_data, bootstrap=True))\n",
    "            cur_stats_c[fname]=np.array(bootstrap_stats)\n",
    "        stats_c[ftype].append(cur_stats_c)\n",
    "    return stats_c"
   ]
  },
  {
   "cell_type": "code",
   "execution_count": 166,
   "metadata": {},
   "outputs": [],
   "source": [
    "#cohort.full_feature_list"
   ]
  },
  {
   "cell_type": "markdown",
   "metadata": {},
   "source": [
    "## compare combat vs asym for noFLAIR features"
   ]
  },
  {
   "cell_type": "code",
   "execution_count": 192,
   "metadata": {},
   "outputs": [
    {
     "name": "stdout",
     "output_type": "stream",
     "text": [
      "{'combat': {'.on_lh.curv.mgh': '.combat.on_lh.curv.sm5.mgh', '.on_lh.pial.K_filtered.mgh': '.combat.on_lh.pial.K_filtered.sm20.mgh', '.on_lh.sulc.mgh': '.combat.on_lh.sulc.sm5.mgh', '.on_lh.thickness.mgh': '.combat.on_lh.thickness.sm10.mgh', '.on_lh.w-g.pct.mgh': '.combat.on_lh.w-g.pct.sm10.mgh'}, 'asym': {'.on_lh.curv.mgh': '.inter_z.asym.intra_z.combat.on_lh.curv.sm5.mgh', '.on_lh.pial.K_filtered.mgh': '.inter_z.asym.intra_z.combat.on_lh.pial.K_filtered.sm20.mgh', '.on_lh.sulc.mgh': '.inter_z.asym.intra_z.combat.on_lh.sulc.sm5.mgh', '.on_lh.thickness.mgh': '.inter_z.asym.intra_z.combat.on_lh.thickness.sm10.mgh', '.on_lh.w-g.pct.mgh': '.inter_z.asym.intra_z.combat.on_lh.w-g.pct.sm10.mgh'}, 'inter': {'.on_lh.curv.mgh': '.inter_z.intra_z.combat.on_lh.curv.sm5.mgh', '.on_lh.pial.K_filtered.mgh': '.inter_z.intra_z.combat.on_lh.pial.K_filtered.sm20.mgh', '.on_lh.sulc.mgh': '.inter_z.intra_z.combat.on_lh.sulc.sm5.mgh', '.on_lh.thickness.mgh': '.inter_z.intra_z.combat.on_lh.thickness.sm10.mgh', '.on_lh.w-g.pct.mgh': '.inter_z.intra_z.combat.on_lh.w-g.pct.sm10.mgh'}}\n"
     ]
    }
   ],
   "source": [
    "# set up data for comparing combat vs asym features (no FLAIR features)\n",
    "base_features = [\n",
    "    '.on_lh.curv.mgh',\n",
    "    '.on_lh.pial.K_filtered.mgh',\n",
    "    '.on_lh.sulc.mgh',\n",
    "   '.on_lh.thickness.mgh',\n",
    "    '.on_lh.w-g.pct.mgh',\n",
    "    ]\n",
    "smooth = [5, 20, 5, 10, 10]\n",
    "\n",
    "# build feature names for comparing combat vs asym\n",
    "features = {\n",
    "    'combat': {f:Feature(f, sm).get_combat_feature() for f,sm in zip(base_features, smooth)},\n",
    "    'asym': {f:Feature(f, sm).get_asym_feature() for f,sm in zip(base_features, smooth)},\n",
    "    'inter': {f:Feature(f, sm).get_norm_feature() for f,sm in zip(base_features, smooth)}\n",
    "    \n",
    "}\n",
    "print(features)\n",
    "\n",
    "# choose random controls to compare against\n",
    "cur_control_ids = np.random.choice(control_ids, size=50, replace=False)\n",
    "\n",
    "# Q: for FLAIR, choose only patients + controls that have flair\n",
    "# Q: match scanner strength for patients + controls?"
   ]
  },
  {
   "cell_type": "code",
   "execution_count": null,
   "metadata": {},
   "outputs": [],
   "source": [
    "ids = np.hstack([patient_ids[:100],cur_control_ids])\n",
    "dict_scores=get_auc_for_features(ids, features, cohort)\n"
   ]
  },
  {
   "cell_type": "code",
   "execution_count": null,
   "metadata": {},
   "outputs": [],
   "source": [
    "dfs=[]\n",
    "for d in dict_scores.keys():\n",
    "    df=pd.DataFrame(dict_scores[d][0])\n",
    "    df['processing']=d\n",
    "    dfs.append(df)\n",
    "stats=pd.concat(dfs)"
   ]
  },
  {
   "cell_type": "code",
   "execution_count": null,
   "metadata": {},
   "outputs": [],
   "source": [
    "# bring stats in right format for plotting\n",
    "df = pd.melt(stats, id_vars='processing', var_name='feature', value_name='tstat') # value_vars=keys, value_name='key')\n",
    "sns.boxplot(data=df, y='feature', x='tstat', hue='processing')"
   ]
  },
  {
   "cell_type": "code",
   "execution_count": 214,
   "metadata": {},
   "outputs": [
    {
     "data": {
      "image/png": "[encoded data removed]",
      "text/plain": [
       "<Figure size 432x288 with 1 Axes>"
      ]
     },
     "metadata": {
      "needs_background": "light"
     },
     "output_type": "display_data"
    }
   ],
   "source": [
    "import ptitprince as pt\n",
    "\n",
    "ax = pt.RainCloud(y = 'tstat', x = 'feature', hue='processing',\n",
    "                  data = df, \n",
    "                  width_viol = .8,\n",
    "                  width_box = .2,\n",
    "                   orient = 'h',\n",
    "                  move = .2,\n",
    "                  offset=0)"
   ]
  },
  {
   "cell_type": "code",
   "execution_count": null,
   "metadata": {},
   "outputs": [],
   "source": []
  },
  {
   "cell_type": "code",
   "execution_count": null,
   "metadata": {},
   "outputs": [],
   "source": []
  },
  {
   "cell_type": "code",
   "execution_count": null,
   "metadata": {},
   "outputs": [],
   "source": []
  }
 ],
 "metadata": {
  "kernelspec": {
   "display_name": "meld_classifier",
   "language": "python",
   "name": "meld_classifier"
  },
  "language_info": {
   "codemirror_mode": {
    "name": "ipython",
    "version": 3
   },
   "file_extension": ".py",
   "mimetype": "text/x-python",
   "name": "python",
   "nbconvert_exporter": "python",
   "pygments_lexer": "ipython3",
   "version": "3.7.11"
  }
 },
 "nbformat": 4,
 "nbformat_minor": 4
}

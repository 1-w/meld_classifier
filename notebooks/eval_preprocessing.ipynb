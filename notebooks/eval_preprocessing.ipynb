{
 "cells": [
  {
   "cell_type": "code",
   "execution_count": 1,
   "metadata": {},
   "outputs": [
    {
     "name": "stdout",
     "output_type": "stream",
     "text": [
      "Setting MELD_DATA_PATH to /home/kw350/rds/rds-kw350-meld/meld_data/Data\n",
      "Setting BASE_PATH to /home/kw350/rds/rds-kw350-meld/meld_data/Data/output/preprocessed_surf_data\n",
      "Setting EXPERIMENT_PATH to /home/kw350/rds/rds-kw350-meld/meld_data/Data/models\n",
      "Setting FS_SUBJECTS_PATH to /home/kw350/rds/rds-kw350-meld/meld_data/Data/output/fs_outputs\n"
     ]
    }
   ],
   "source": [
    "from meld_classifier.meld_cohort import MeldCohort, MeldSubject\n",
    "import numpy as np\n",
    "from scipy.stats import ttest_ind\n",
    "import seaborn as sns\n",
    "import pandas as pd\n",
    "from meld_classifier.define_features import Feature\n",
    "from meld_classifier.paths import BASE_PATH, EXPERIMENT_PATH,MELD_DATA_PATH\n",
    "import sklearn.metrics as metrics\n",
    "from sklearn import neural_network"
   ]
  },
  {
   "cell_type": "code",
   "execution_count": 3,
   "metadata": {},
   "outputs": [],
   "source": [
    "cohort= MeldCohort(hdf5_file_root='{site_code}_{group}_featurematrix_combat_6.hdf5', dataset=\"MELD_dataset_V6.csv\",\n",
    "             data_dir=MELD_DATA_PATH)"
   ]
  },
  {
   "cell_type": "code",
   "execution_count": 4,
   "metadata": {},
   "outputs": [
    {
     "name": "stdout",
     "output_type": "stream",
     "text": [
      "538 patients 373 controls\n",
      ".combat.on_lh.curv.sm5.mgh\n",
      ".combat.on_lh.gm_FLAIR_0.25.sm10.mgh\n",
      ".combat.on_lh.gm_FLAIR_0.5.sm10.mgh\n",
      ".combat.on_lh.gm_FLAIR_0.75.sm10.mgh\n",
      ".combat.on_lh.gm_FLAIR_0.sm10.mgh\n",
      ".combat.on_lh.pial.K_filtered.sm20.mgh\n",
      ".combat.on_lh.sulc.sm5.mgh\n",
      ".combat.on_lh.thickness.sm10.mgh\n",
      ".combat.on_lh.w-g.pct.sm10.mgh\n",
      ".combat.on_lh.wm_FLAIR_0.5.sm10.mgh\n",
      ".combat.on_lh.wm_FLAIR_1.sm10.mgh\n",
      ".inter_z.asym.intra_z.combat.on_lh.curv.sm5.mgh\n",
      ".inter_z.asym.intra_z.combat.on_lh.gm_FLAIR_0.25.sm10.mgh\n",
      ".inter_z.asym.intra_z.combat.on_lh.gm_FLAIR_0.5.sm10.mgh\n",
      ".inter_z.asym.intra_z.combat.on_lh.gm_FLAIR_0.75.sm10.mgh\n",
      ".inter_z.asym.intra_z.combat.on_lh.gm_FLAIR_0.sm10.mgh\n",
      ".inter_z.asym.intra_z.combat.on_lh.pial.K_filtered.sm20.mgh\n",
      ".inter_z.asym.intra_z.combat.on_lh.sulc.sm5.mgh\n",
      ".inter_z.asym.intra_z.combat.on_lh.thickness.sm10.mgh\n",
      ".inter_z.asym.intra_z.combat.on_lh.w-g.pct.sm10.mgh\n",
      ".inter_z.asym.intra_z.combat.on_lh.wm_FLAIR_0.5.sm10.mgh\n",
      ".inter_z.asym.intra_z.combat.on_lh.wm_FLAIR_1.sm10.mgh\n",
      ".inter_z.intra_z.combat.on_lh.curv.sm5.mgh\n",
      ".inter_z.intra_z.combat.on_lh.gm_FLAIR_0.25.sm10.mgh\n",
      ".inter_z.intra_z.combat.on_lh.gm_FLAIR_0.5.sm10.mgh\n",
      ".inter_z.intra_z.combat.on_lh.gm_FLAIR_0.75.sm10.mgh\n",
      ".inter_z.intra_z.combat.on_lh.gm_FLAIR_0.sm10.mgh\n",
      ".inter_z.intra_z.combat.on_lh.pial.K_filtered.sm20.mgh\n",
      ".inter_z.intra_z.combat.on_lh.sulc.sm5.mgh\n",
      ".inter_z.intra_z.combat.on_lh.thickness.sm10.mgh\n",
      ".inter_z.intra_z.combat.on_lh.w-g.pct.sm10.mgh\n",
      ".inter_z.intra_z.combat.on_lh.wm_FLAIR_0.5.sm10.mgh\n",
      ".inter_z.intra_z.combat.on_lh.wm_FLAIR_1.sm10.mgh\n"
     ]
    }
   ],
   "source": [
    "# get all patients and controls\n",
    "patient_ids = cohort.get_subject_ids(group='patient')\n",
    "control_ids = cohort.get_subject_ids(group='control')\n",
    "print(len(patient_ids), 'patients', len(control_ids), 'controls')\n",
    "\n",
    "# get all features\n",
    "for f in cohort.full_feature_list:\n",
    "    print(f)"
   ]
  },
  {
   "cell_type": "code",
   "execution_count": 47,
   "metadata": {},
   "outputs": [],
   "source": [
    "def get_subject_features(subject_ids, feature, cohort):\n",
    "    \"\"\"\n",
    "    preload features from controls for a list of controls\n",
    "    \"\"\"\n",
    "    n_vert = sum(cohort.cortex_mask)\n",
    "    subject_data = {'features':{}, 'lesions': {}}\n",
    "    subject_data['features']= np.zeros((len(subject_ids),2*n_vert))\n",
    "    subject_data['lesions']= np.zeros((len(subject_ids),2*n_vert))\n",
    "    for s,sid in enumerate(subject_ids):\n",
    "        subj = MeldSubject(sid, cohort)\n",
    "        for h,hemi in enumerate(['lh', 'rh']):\n",
    "            features,lesion = subj.load_feature_lesion_data([feature], hemi=hemi)\n",
    "            subject_data['features'][s,h*n_vert:(h+1)*n_vert] = features[cohort.cortex_mask].flatten()\n",
    "            subject_data['lesions'][s,h*n_vert:(h+1)*n_vert] = lesion[cohort.cortex_mask]>0        \n",
    "    return subject_data\n",
    "\n",
    "\n",
    "def get_auc(all_features, bootstrap=False, classifier=True):\n",
    "    subj_ids = np.arange(len(all_features['features']))\n",
    "    y_score = all_features['features'][subj_ids].ravel()\n",
    "    label = all_features['lesions'][subj_ids].ravel()\n",
    "    if classifier:\n",
    "        clf = neural_network.MLPClassifier(hidden_layer_sizes=[2],random_state=1, max_iter=3,\n",
    "                                          verbose=True).fit(y_score.reshape(-1, 1), label)\n",
    "    if bootstrap:\n",
    "        #randomly with replacement\n",
    "        scores=[]\n",
    "        for b in np.arange(bootstrap):\n",
    "            subj_ids = np.arange(len(all_features['features']))\n",
    "            subj_ids = np.random.choice(len(subj_ids),len(subj_ids))\n",
    "            y_score = all_features['features'][subj_ids].ravel()\n",
    "            label = all_features['lesions'][subj_ids].ravel()\n",
    "            pred = clf.predict_proba(y_score.reshape(-1, 1))\n",
    "            score = metrics.roc_auc_score(label, pred[:,1])\n",
    "            scores.append(score)\n",
    "        return scores\n",
    "    else:\n",
    "        pred = clf.predict_proba(y_score.reshape(-1, 1))\n",
    "        score = metrics.roc_auc_score(label, pred[:,1])\n",
    "        return [score]\n",
    "\n",
    "\n",
    "def get_auc_for_features(subject_ids, features, cohort, bootstrap =False):\n",
    "    \"\"\"\n",
    "    calculate tstats for all patients + matching controls for all features in features dict\n",
    "    \"\"\"\n",
    "    import time\n",
    "    stats_c = {}\n",
    "    for ftype, fdict in features.items():\n",
    "        cur_stats_c = {}\n",
    "        stats_c[ftype]=[]\n",
    "        for fname, feature in fdict.items():\n",
    "            subj_data = get_subject_features(subject_ids, feature, cohort)\n",
    "            \n",
    "            bootstrap_stats = get_auc(subj_data, bootstrap=bootstrap)\n",
    "            cur_stats_c[fname]=np.array(bootstrap_stats)\n",
    "        stats_c[ftype].append(cur_stats_c)\n",
    "    return stats_c"
   ]
  },
  {
   "cell_type": "code",
   "execution_count": 48,
   "metadata": {},
   "outputs": [],
   "source": [
    "#cohort.full_feature_list"
   ]
  },
  {
   "cell_type": "markdown",
   "metadata": {},
   "source": [
    "## compare combat vs asym for noFLAIR features"
   ]
  },
  {
   "cell_type": "code",
   "execution_count": 49,
   "metadata": {},
   "outputs": [
    {
     "name": "stdout",
     "output_type": "stream",
     "text": [
      "{'combat': {'.on_lh.curv.mgh': '.combat.on_lh.curv.sm5.mgh', '.on_lh.pial.K_filtered.mgh': '.combat.on_lh.pial.K_filtered.sm20.mgh', '.on_lh.sulc.mgh': '.combat.on_lh.sulc.sm5.mgh', '.on_lh.thickness.mgh': '.combat.on_lh.thickness.sm10.mgh', '.on_lh.w-g.pct.mgh': '.combat.on_lh.w-g.pct.sm10.mgh'}, 'asym': {'.on_lh.curv.mgh': '.inter_z.asym.intra_z.combat.on_lh.curv.sm5.mgh', '.on_lh.pial.K_filtered.mgh': '.inter_z.asym.intra_z.combat.on_lh.pial.K_filtered.sm20.mgh', '.on_lh.sulc.mgh': '.inter_z.asym.intra_z.combat.on_lh.sulc.sm5.mgh', '.on_lh.thickness.mgh': '.inter_z.asym.intra_z.combat.on_lh.thickness.sm10.mgh', '.on_lh.w-g.pct.mgh': '.inter_z.asym.intra_z.combat.on_lh.w-g.pct.sm10.mgh'}, 'inter': {'.on_lh.curv.mgh': '.inter_z.intra_z.combat.on_lh.curv.sm5.mgh', '.on_lh.pial.K_filtered.mgh': '.inter_z.intra_z.combat.on_lh.pial.K_filtered.sm20.mgh', '.on_lh.sulc.mgh': '.inter_z.intra_z.combat.on_lh.sulc.sm5.mgh', '.on_lh.thickness.mgh': '.inter_z.intra_z.combat.on_lh.thickness.sm10.mgh', '.on_lh.w-g.pct.mgh': '.inter_z.intra_z.combat.on_lh.w-g.pct.sm10.mgh'}}\n"
     ]
    }
   ],
   "source": [
    "# set up data for comparing combat vs asym features (no FLAIR features)\n",
    "base_features = [\n",
    "    '.on_lh.curv.mgh',\n",
    "    '.on_lh.pial.K_filtered.mgh',\n",
    "    '.on_lh.sulc.mgh',\n",
    "   '.on_lh.thickness.mgh',\n",
    "    '.on_lh.w-g.pct.mgh',\n",
    "    ]\n",
    "smooth = [5, 20, 5, 10, 10]\n",
    "\n",
    "# build feature names for comparing combat vs asym\n",
    "features = {\n",
    "    'combat': {f:Feature(f, sm).get_combat_feature() for f,sm in zip(base_features, smooth)},\n",
    "    'asym': {f:Feature(f, sm).get_asym_feature() for f,sm in zip(base_features, smooth)},\n",
    "    'inter': {f:Feature(f, sm).get_norm_feature() for f,sm in zip(base_features, smooth)}\n",
    "    \n",
    "}\n",
    "print(features)\n",
    "\n",
    "# choose random controls to compare against\n",
    "cur_control_ids = np.random.choice(control_ids, size=50, replace=False)\n",
    "\n",
    "# Q: for FLAIR, choose only patients + controls that have flair\n",
    "# Q: match scanner strength for patients + controls?"
   ]
  },
  {
   "cell_type": "code",
   "execution_count": 56,
   "metadata": {
    "scrolled": true
   },
   "outputs": [
    {
     "name": "stdout",
     "output_type": "stream",
     "text": [
      "Iteration 1, loss = 0.04641604\n",
      "Iteration 2, loss = 0.04513352\n",
      "Iteration 3, loss = 0.04513372\n"
     ]
    },
    {
     "name": "stderr",
     "output_type": "stream",
     "text": [
      "/home/kw350/.conda/envs/meld_classifier/lib/python3.7/site-packages/sklearn/neural_network/_multilayer_perceptron.py:617: ConvergenceWarning: Stochastic Optimizer: Maximum iterations (3) reached and the optimization hasn't converged yet.\n",
      "  % self.max_iter, ConvergenceWarning)\n"
     ]
    },
    {
     "name": "stdout",
     "output_type": "stream",
     "text": [
      "Iteration 1, loss = 0.04399866\n",
      "Iteration 2, loss = 0.04348202\n",
      "Iteration 3, loss = 0.04348162\n"
     ]
    },
    {
     "name": "stderr",
     "output_type": "stream",
     "text": [
      "/home/kw350/.conda/envs/meld_classifier/lib/python3.7/site-packages/sklearn/neural_network/_multilayer_perceptron.py:617: ConvergenceWarning: Stochastic Optimizer: Maximum iterations (3) reached and the optimization hasn't converged yet.\n",
      "  % self.max_iter, ConvergenceWarning)\n"
     ]
    },
    {
     "name": "stdout",
     "output_type": "stream",
     "text": [
      "Iteration 1, loss = 0.04570459\n",
      "Iteration 2, loss = 0.04514215\n",
      "Iteration 3, loss = 0.04514169\n"
     ]
    },
    {
     "name": "stderr",
     "output_type": "stream",
     "text": [
      "/home/kw350/.conda/envs/meld_classifier/lib/python3.7/site-packages/sklearn/neural_network/_multilayer_perceptron.py:617: ConvergenceWarning: Stochastic Optimizer: Maximum iterations (3) reached and the optimization hasn't converged yet.\n",
      "  % self.max_iter, ConvergenceWarning)\n"
     ]
    },
    {
     "name": "stdout",
     "output_type": "stream",
     "text": [
      "Iteration 1, loss = 0.04389695\n",
      "Iteration 2, loss = 0.04364123\n",
      "Iteration 3, loss = 0.04364000\n"
     ]
    },
    {
     "name": "stderr",
     "output_type": "stream",
     "text": [
      "/home/kw350/.conda/envs/meld_classifier/lib/python3.7/site-packages/sklearn/neural_network/_multilayer_perceptron.py:617: ConvergenceWarning: Stochastic Optimizer: Maximum iterations (3) reached and the optimization hasn't converged yet.\n",
      "  % self.max_iter, ConvergenceWarning)\n"
     ]
    },
    {
     "name": "stdout",
     "output_type": "stream",
     "text": [
      "Iteration 1, loss = 0.04454629\n",
      "Iteration 2, loss = 0.04443538\n",
      "Iteration 3, loss = 0.04443508\n"
     ]
    },
    {
     "name": "stderr",
     "output_type": "stream",
     "text": [
      "/home/kw350/.conda/envs/meld_classifier/lib/python3.7/site-packages/sklearn/neural_network/_multilayer_perceptron.py:617: ConvergenceWarning: Stochastic Optimizer: Maximum iterations (3) reached and the optimization hasn't converged yet.\n",
      "  % self.max_iter, ConvergenceWarning)\n"
     ]
    },
    {
     "name": "stdout",
     "output_type": "stream",
     "text": [
      "Iteration 1, loss = 0.04577119\n",
      "Iteration 2, loss = 0.04513730\n",
      "Iteration 3, loss = 0.04513698\n"
     ]
    },
    {
     "name": "stderr",
     "output_type": "stream",
     "text": [
      "/home/kw350/.conda/envs/meld_classifier/lib/python3.7/site-packages/sklearn/neural_network/_multilayer_perceptron.py:617: ConvergenceWarning: Stochastic Optimizer: Maximum iterations (3) reached and the optimization hasn't converged yet.\n",
      "  % self.max_iter, ConvergenceWarning)\n"
     ]
    },
    {
     "name": "stdout",
     "output_type": "stream",
     "text": [
      "Iteration 1, loss = 0.04406422\n",
      "Iteration 2, loss = 0.04346979\n",
      "Iteration 3, loss = 0.04346843\n"
     ]
    },
    {
     "name": "stderr",
     "output_type": "stream",
     "text": [
      "/home/kw350/.conda/envs/meld_classifier/lib/python3.7/site-packages/sklearn/neural_network/_multilayer_perceptron.py:617: ConvergenceWarning: Stochastic Optimizer: Maximum iterations (3) reached and the optimization hasn't converged yet.\n",
      "  % self.max_iter, ConvergenceWarning)\n"
     ]
    },
    {
     "name": "stdout",
     "output_type": "stream",
     "text": [
      "Iteration 1, loss = 0.04574149\n",
      "Iteration 2, loss = 0.04510395\n",
      "Iteration 3, loss = 0.04510352\n"
     ]
    },
    {
     "name": "stderr",
     "output_type": "stream",
     "text": [
      "/home/kw350/.conda/envs/meld_classifier/lib/python3.7/site-packages/sklearn/neural_network/_multilayer_perceptron.py:617: ConvergenceWarning: Stochastic Optimizer: Maximum iterations (3) reached and the optimization hasn't converged yet.\n",
      "  % self.max_iter, ConvergenceWarning)\n"
     ]
    },
    {
     "name": "stdout",
     "output_type": "stream",
     "text": [
      "Iteration 1, loss = 0.04519801\n",
      "Iteration 2, loss = 0.04454230\n",
      "Iteration 3, loss = 0.04454118\n"
     ]
    },
    {
     "name": "stderr",
     "output_type": "stream",
     "text": [
      "/home/kw350/.conda/envs/meld_classifier/lib/python3.7/site-packages/sklearn/neural_network/_multilayer_perceptron.py:617: ConvergenceWarning: Stochastic Optimizer: Maximum iterations (3) reached and the optimization hasn't converged yet.\n",
      "  % self.max_iter, ConvergenceWarning)\n"
     ]
    },
    {
     "name": "stdout",
     "output_type": "stream",
     "text": [
      "Iteration 1, loss = 0.04291944\n",
      "Iteration 2, loss = 0.04230200\n",
      "Iteration 3, loss = 0.04230094\n"
     ]
    },
    {
     "name": "stderr",
     "output_type": "stream",
     "text": [
      "/home/kw350/.conda/envs/meld_classifier/lib/python3.7/site-packages/sklearn/neural_network/_multilayer_perceptron.py:617: ConvergenceWarning: Stochastic Optimizer: Maximum iterations (3) reached and the optimization hasn't converged yet.\n",
      "  % self.max_iter, ConvergenceWarning)\n"
     ]
    },
    {
     "name": "stdout",
     "output_type": "stream",
     "text": [
      "Iteration 1, loss = 0.04578229\n",
      "Iteration 2, loss = 0.04512716\n",
      "Iteration 3, loss = 0.04512649\n"
     ]
    },
    {
     "name": "stderr",
     "output_type": "stream",
     "text": [
      "/home/kw350/.conda/envs/meld_classifier/lib/python3.7/site-packages/sklearn/neural_network/_multilayer_perceptron.py:617: ConvergenceWarning: Stochastic Optimizer: Maximum iterations (3) reached and the optimization hasn't converged yet.\n",
      "  % self.max_iter, ConvergenceWarning)\n"
     ]
    },
    {
     "name": "stdout",
     "output_type": "stream",
     "text": [
      "Iteration 1, loss = 0.04350393\n",
      "Iteration 2, loss = 0.04282479\n",
      "Iteration 3, loss = 0.04282401\n"
     ]
    },
    {
     "name": "stderr",
     "output_type": "stream",
     "text": [
      "/home/kw350/.conda/envs/meld_classifier/lib/python3.7/site-packages/sklearn/neural_network/_multilayer_perceptron.py:617: ConvergenceWarning: Stochastic Optimizer: Maximum iterations (3) reached and the optimization hasn't converged yet.\n",
      "  % self.max_iter, ConvergenceWarning)\n"
     ]
    },
    {
     "name": "stdout",
     "output_type": "stream",
     "text": [
      "Iteration 1, loss = 0.04567889\n",
      "Iteration 2, loss = 0.04511605\n",
      "Iteration 3, loss = 0.04511437\n"
     ]
    },
    {
     "name": "stderr",
     "output_type": "stream",
     "text": [
      "/home/kw350/.conda/envs/meld_classifier/lib/python3.7/site-packages/sklearn/neural_network/_multilayer_perceptron.py:617: ConvergenceWarning: Stochastic Optimizer: Maximum iterations (3) reached and the optimization hasn't converged yet.\n",
      "  % self.max_iter, ConvergenceWarning)\n"
     ]
    },
    {
     "name": "stdout",
     "output_type": "stream",
     "text": [
      "Iteration 1, loss = 0.04478894\n",
      "Iteration 2, loss = 0.04411259\n",
      "Iteration 3, loss = 0.04411116\n"
     ]
    },
    {
     "name": "stderr",
     "output_type": "stream",
     "text": [
      "/home/kw350/.conda/envs/meld_classifier/lib/python3.7/site-packages/sklearn/neural_network/_multilayer_perceptron.py:617: ConvergenceWarning: Stochastic Optimizer: Maximum iterations (3) reached and the optimization hasn't converged yet.\n",
      "  % self.max_iter, ConvergenceWarning)\n"
     ]
    },
    {
     "name": "stdout",
     "output_type": "stream",
     "text": [
      "Iteration 1, loss = 0.04208731\n",
      "Iteration 2, loss = 0.04146202\n",
      "Iteration 3, loss = 0.04146137\n"
     ]
    },
    {
     "name": "stderr",
     "output_type": "stream",
     "text": [
      "/home/kw350/.conda/envs/meld_classifier/lib/python3.7/site-packages/sklearn/neural_network/_multilayer_perceptron.py:617: ConvergenceWarning: Stochastic Optimizer: Maximum iterations (3) reached and the optimization hasn't converged yet.\n",
      "  % self.max_iter, ConvergenceWarning)\n"
     ]
    }
   ],
   "source": [
    "ids = np.hstack([patient_ids,cur_control_ids])\n",
    "ids = np.random.choice(ids,200)\n",
    "dict_scores=get_auc_for_features(ids, features, cohort,bootstrap = 10 )\n"
   ]
  },
  {
   "cell_type": "code",
   "execution_count": 57,
   "metadata": {},
   "outputs": [],
   "source": [
    "dfs=[]\n",
    "for d in dict_scores.keys():\n",
    "    df=pd.DataFrame(dict_scores[d][0])\n",
    "    df['processing']=d\n",
    "    dfs.append(df)\n",
    "stats=pd.concat(dfs)"
   ]
  },
  {
   "cell_type": "code",
   "execution_count": 58,
   "metadata": {},
   "outputs": [
    {
     "data": {
      "text/plain": [
       "<AxesSubplot:xlabel='AUC', ylabel='feature'>"
      ]
     },
     "execution_count": 58,
     "metadata": {},
     "output_type": "execute_result"
    },
    {
     "data": {
      "image/png": "[encoded data removed]",
      "text/plain": [
       "<Figure size 432x288 with 1 Axes>"
      ]
     },
     "metadata": {
      "needs_background": "light"
     },
     "output_type": "display_data"
    }
   ],
   "source": [
    "# bring stats in right format for plotting\n",
    "df = pd.melt(stats, id_vars='processing', var_name='feature', value_name='AUC') # value_vars=keys, value_name='key')\n",
    "sns.boxplot(data=df, y='feature', x='AUC', hue='processing')"
   ]
  },
  {
   "cell_type": "code",
   "execution_count": 231,
   "metadata": {},
   "outputs": [
    {
     "data": {
      "image/png": "[encoded data removed]",
      "text/plain": [
       "<Figure size 432x288 with 1 Axes>"
      ]
     },
     "metadata": {
      "needs_background": "light"
     },
     "output_type": "display_data"
    }
   ],
   "source": [
    "import ptitprince as pt\n",
    "\n",
    "ax = pt.RainCloud(y = 'tstat', x = 'feature', hue='processing',\n",
    "                  data = df, \n",
    "                  width_viol = .8,\n",
    "                  width_box = .2,\n",
    "                   orient = 'h',\n",
    "                  move = .2,\n",
    "                  offset=0)"
   ]
  },
  {
   "cell_type": "code",
   "execution_count": null,
   "metadata": {},
   "outputs": [],
   "source": []
  },
  {
   "cell_type": "code",
   "execution_count": null,
   "metadata": {},
   "outputs": [],
   "source": []
  },
  {
   "cell_type": "code",
   "execution_count": null,
   "metadata": {},
   "outputs": [],
   "source": []
  }
 ],
 "metadata": {
  "kernelspec": {
   "display_name": "meld_classifier",
   "language": "python",
   "name": "meld_classifier"
  },
  "language_info": {
   "codemirror_mode": {
    "name": "ipython",
    "version": 3
   },
   "file_extension": ".py",
   "mimetype": "text/x-python",
   "name": "python",
   "nbconvert_exporter": "python",
   "pygments_lexer": "ipython3",
   "version": "3.7.11"
  }
 },
 "nbformat": 4,
 "nbformat_minor": 4
}
